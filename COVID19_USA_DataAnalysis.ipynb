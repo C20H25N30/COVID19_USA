{
 "cells": [
  {
   "cell_type": "code",
   "execution_count": 1,
   "metadata": {
    "scrolled": false
   },
   "outputs": [],
   "source": [
    "import numpy as np\n",
    "import pandas as pd\n",
    "import matplotlib.pyplot as plt\n",
    "import seaborn as sns\n",
    "from scipy.optimize import curve_fit\n",
    "import csv\n",
    "from datetime import datetime, time"
   ]
  },
  {
   "cell_type": "markdown",
   "metadata": {},
   "source": [
    "# Data source: COVID19 Tracking\n",
    "\n",
    "\n",
    "### CSV File available on GitHub\n",
    "\n",
    "https://github.com/COVID19Tracking/covid-tracking-data/blob/master/data/states_daily_4pm_et.csv\n",
    "\n",
    "### Page describing the project\n",
    "https://covidtracking.com\n"
   ]
  },
  {
   "cell_type": "code",
   "execution_count": 2,
   "metadata": {
    "code_folding": [
     0
    ],
    "scrolled": false
   },
   "outputs": [],
   "source": [
    "#Upload the data from the COVID19Tracking project GitHub page\n",
    "\n",
    "#Upload the state-by-state USA data\n",
    "url_states = 'https://raw.githubusercontent.com/COVID19Tracking/covid-tracking-data/master/data/states_daily_4pm_et.csv'\n",
    "covid19_usa_states_daily = pd.read_csv(url_states)\n",
    "#Upload the USA data\n",
    "url_usa = 'https://raw.githubusercontent.com/COVID19Tracking/covid-tracking-data/master/data/us_daily.csv'\n",
    "covid19_usa_daily = pd.read_csv(url_usa)"
   ]
  },
  {
   "cell_type": "markdown",
   "metadata": {},
   "source": [
    "### Data available in the USA database\n",
    "\n",
    "- **date** = date of observation\n",
    "- **states** number of states with covid-19 cases\n",
    "- **positive** number of tests with positive result\n",
    "- **negative** number of tests with negative result\n",
    "- **posNeg** sum of positive and negative\n",
    "- **pending** number of tests with pending result\n",
    "- **death** number of death cases\n",
    "- **total** total number of cases"
   ]
  },
  {
   "cell_type": "markdown",
   "metadata": {},
   "source": [
    "# Create a unique database with the state values and the USA values"
   ]
  },
  {
   "cell_type": "code",
   "execution_count": 3,
   "metadata": {
    "code_folding": [
     0
    ]
   },
   "outputs": [],
   "source": [
    "#Change the column 'states', which previously tracked the number of infected states, into a column\n",
    "#'state', all called USA. In this way USA will be read as one of the possible states for which one can \n",
    "# plot the available data, while in fact it will report the cumulative data, summed over all the states\n",
    "covid19_usa_daily.columns = ['state' if x=='states' else x for x in covid19_usa_daily.columns]\n",
    "covid19_usa_daily.state = 'USA'\n",
    "\n",
    "#In this way the state-by-state and the federal DataFrame have the same columns. \n",
    "\n",
    "#Invert the direction of time for the federal database, which is ordered from the oldest to today, top to bottom.\n",
    "covid19_usa_daily = covid19_usa_daily.iloc[::-1]\n",
    "#In this way it is ordered as the state-wise database\n",
    "\n",
    "\n",
    "\n",
    "#The states databases has some NaNs, for example in the number of deaths in states where it is zero. \n",
    "#So we fill it with a zero\n",
    "covid19_usa_states_daily = covid19_usa_states_daily.fillna(0)\n",
    "covid19_usa_daily = covid19_usa_daily.fillna(0)\n",
    "\n",
    "#######STANDING ISSUE#############################\n",
    "#total IS NOT EQUAL TO positive+negative+pending\n",
    "#covid19_usa_daily['total']==(covid19_usa_daily['positive']+covid19_usa_daily['negative']+covid19_usa_daily['pending'])\n",
    "#The difference is small so, for now, we proceed\n",
    "#################################################\n",
    "\n",
    "#Drop the dateChecked column from the state-wise database\n",
    "covid19_usa_states_daily=covid19_usa_states_daily.drop(columns='dateChecked')\n",
    "\n",
    "#Defin the posNeg column for the states database, to make it consistent with the USA database\n",
    "covid19_usa_states_daily['posNeg']=covid19_usa_states_daily.positive+covid19_usa_states_daily.negative\n",
    "\n",
    "#Reorder the columns in the states database, again for consistency with the USA database\n",
    "covid19_usa_states_daily = covid19_usa_states_daily[['date','state','positive','negative','posNeg','pending','death','total']]\n",
    "\n",
    "\n",
    "#Append the USA dataFrame to the state-wise dataFrame to create the actual dataFrame we will use\n",
    "covid19_USA = covid19_usa_states_daily.append(covid19_usa_daily, ignore_index=True)\n",
    "\n",
    "#Turn the string data into a datetime format, necessary to fit the data\n",
    "covid19_USA['date']=pd.to_datetime(covid19_USA['date'],format=\"%Y%m%d\")"
   ]
  },
  {
   "cell_type": "code",
   "execution_count": 4,
   "metadata": {
    "code_folding": [
     0
    ],
    "scrolled": false
   },
   "outputs": [],
   "source": [
    "#Seaborn setup for plots\n",
    "sns.set(rc={'figure.figsize':(11, 7)})"
   ]
  },
  {
   "cell_type": "markdown",
   "metadata": {},
   "source": [
    "# Data Analysis with the Verhulst growth model"
   ]
  },
  {
   "cell_type": "code",
   "execution_count": 5,
   "metadata": {
    "code_folding": [
     0,
     1
    ]
   },
   "outputs": [],
   "source": [
    "#Define the function to use for curve_fit. Here we are using the Verhulst model\n",
    "def Verhulst(t, K, I0, r):\n",
    "    return (K*I0*np.exp(r*t))/(K+I0*(np.exp(r*t)-1))"
   ]
  },
  {
   "cell_type": "code",
   "execution_count": 6,
   "metadata": {
    "code_folding": [
     0
    ]
   },
   "outputs": [],
   "source": [
    "# Function to create the numpy array of times associated to the data. The time-scale is in days and the \n",
    "#order of time in the data is (top ---> bottom) = (more recent ---> older)\n",
    "def time_vector(data_frame,state_to_look):\n",
    "    time_frame = data_frame[data_frame.state==state_to_look]['date'].to_numpy()\n",
    "    t_vec = np.zeros(len(time_frame))\n",
    "    for k in range(len(time_frame)):\n",
    "        t_vec[k] = ((time_frame[0]-time_frame[k]).item())/(np.power(10,9)*60*60*24)\n",
    "    return t_vec"
   ]
  },
  {
   "cell_type": "code",
   "execution_count": 7,
   "metadata": {
    "code_folding": [
     0
    ]
   },
   "outputs": [],
   "source": [
    "# Function to fit the data, for a single state\n",
    "def data_analysis_single(state_to_fit,indicator_to_fit):\n",
    "    time_Data = time_vector(covid19_USA,state_to_fit)\n",
    "    y_Data = np.flip(covid19_USA[covid19_USA.state==state_to_fit][indicator_to_fit].to_numpy())\n",
    "    fittedParameters, covariance = curve_fit(Verhulst,time_Data,y_Data, bounds=([0,0,0],[300000000,1000,1]))\n",
    "    return fittedParameters, covariance"
   ]
  },
  {
   "cell_type": "code",
   "execution_count": 8,
   "metadata": {
    "code_folding": [
     0
    ]
   },
   "outputs": [],
   "source": [
    "#Full list of states and indicators to analyze\n",
    "\n",
    "#Abbreviation of the states\n",
    "state_list = [\"AL\", \"AK\", \"AZ\", \"AR\", \"CA\", \"CO\", \"CT\", \"DC\", \"DE\", \"FL\", \"GA\", \n",
    "          \"HI\", \"ID\", \"IL\", \"IN\", \"IA\", \"KS\", \"KY\", \"LA\", \"ME\", \"MD\", \n",
    "          \"MA\", \"MI\", \"MN\", \"MS\", \"MO\", \"MT\", \"NE\", \"NV\", \"NH\", \"NJ\", \n",
    "          \"NM\", \"NY\", \"NC\", \"ND\", \"OH\", \"OK\", \"OR\", \"PA\", \"RI\", \"SC\", \n",
    "          \"SD\", \"TN\", \"TX\", \"UT\", \"VT\", \"VA\", \"WA\", \"WV\", \"WI\", \"WY\",\"USA\"]\n",
    "indicators = list(covid19_USA.columns.values)[2:8]"
   ]
  },
  {
   "cell_type": "markdown",
   "metadata": {},
   "source": [
    "## Fit with a Verhulst model and fill a csv with the value of the parameters and their error"
   ]
  },
  {
   "cell_type": "markdown",
   "metadata": {},
   "source": [
    "### Fixed state"
   ]
  },
  {
   "cell_type": "code",
   "execution_count": 9,
   "metadata": {
    "code_folding": []
   },
   "outputs": [],
   "source": [
    "# Fixed State Fit\n",
    "for k in state_list:\n",
    "    with open('./Fit_Data/States/Verhulst_Parameters_{}.csv'.format(k), 'w', newline='') as f:\n",
    "        thewriter = csv.writer(f)\n",
    "        thewriter.writerow(['indicator','K','delta_K','r','delta_r','I0','delta_I0'])\n",
    "        for n in indicators:\n",
    "            try:\n",
    "                p_opt, p_cov = data_analysis_single(k,n)\n",
    "                p_err = np.sqrt(p_cov.diagonal())\n",
    "                thewriter.writerow([n,p_opt[0],p_err[0],p_opt[2],p_err[2],p_opt[1],p_err[1]])\n",
    "            except RuntimeError:\n",
    "                thewriter.writerow([n,0,0,0,0,0,0])\n",
    "                continue"
   ]
  },
  {
   "cell_type": "markdown",
   "metadata": {},
   "source": [
    "### Fixed Indicator"
   ]
  },
  {
   "cell_type": "code",
   "execution_count": 10,
   "metadata": {
    "code_folding": [
     0
    ]
   },
   "outputs": [],
   "source": [
    "# Fixed Indicator Fit\n",
    "for n in indicators:\n",
    "    with open('./Fit_Data/Indicators/Verhulst_Parameters_{}.csv'.format(n), 'w', newline='') as f:\n",
    "        thewriter = csv.writer(f)\n",
    "        thewriter.writerow(['state','K','delta_K','r','delta_r','I0','delta_I0'])\n",
    "        for k in state_list:\n",
    "            try:\n",
    "                p_opt, p_cov = data_analysis_single(k,n)\n",
    "                p_err = np.sqrt(p_cov.diagonal())\n",
    "                thewriter.writerow([k,p_opt[0],p_err[0],p_opt[2],p_err[2],p_opt[1],p_err[1]])\n",
    "            except RuntimeError:\n",
    "                thewriter.writerow([n,0,0,0,0,0,0])\n",
    "                continue"
   ]
  },
  {
   "cell_type": "code",
   "execution_count": null,
   "metadata": {},
   "outputs": [],
   "source": []
  }
 ],
 "metadata": {
  "kernelspec": {
   "display_name": "Python 3",
   "language": "python",
   "name": "python3"
  },
  "language_info": {
   "codemirror_mode": {
    "name": "ipython",
    "version": 3
   },
   "file_extension": ".py",
   "mimetype": "text/x-python",
   "name": "python",
   "nbconvert_exporter": "python",
   "pygments_lexer": "ipython3",
   "version": "3.7.4"
  }
 },
 "nbformat": 4,
 "nbformat_minor": 2
}
